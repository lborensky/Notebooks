{
 "cells": [
  {
   "cell_type": "markdown",
   "metadata": {},
   "source": [
    "### expressions simplifiées"
   ]
  },
  {
   "cell_type": "code",
   "execution_count": 4,
   "metadata": {
    "collapsed": false
   },
   "outputs": [
    {
     "data": {
      "text/plain": [
       "\u001b[36mres3_0\u001b[0m: \u001b[32mInt\u001b[0m = \u001b[32m8\u001b[0m\n",
       "\u001b[36mres3_1\u001b[0m: \u001b[32mInt\u001b[0m = \u001b[32m8\u001b[0m\n",
       "\u001b[36mres3_2\u001b[0m: \u001b[32mInt\u001b[0m = \u001b[32m8\u001b[0m"
      ]
     },
     "metadata": {},
     "output_type": "display_data"
    }
   ],
   "source": [
    "// plusieurs formes de syntaxe acceptées\n",
    "\"comment ça va?\".indexOf(\"ça\")\n",
    "\"comment ça va?\" indexOf \"ça\"\n",
    "\"comment ça va?\" indexOf(\"ça\")"
   ]
  },
  {
   "cell_type": "code",
   "execution_count": 2,
   "metadata": {
    "collapsed": false
   },
   "outputs": [
    {
     "ename": "",
     "evalue": "",
     "output_type": "error",
     "traceback": [
      "Failure(End:1:26 ...\"\\\"\\u00e7a\\\"\")"
     ]
    }
   ],
   "source": [
    "// sauf celle-ci pour l'expression courante\n",
    "\"comment ça va?\".indexOf \"ça\""
   ]
  },
  {
   "cell_type": "code",
   "execution_count": 3,
   "metadata": {
    "collapsed": false
   },
   "outputs": [
    {
     "data": {
      "text/plain": [
       "\u001b[36mres2\u001b[0m: \u001b[32mInt\u001b[0m = \u001b[32m11\u001b[0m"
      ]
     },
     "metadata": {},
     "output_type": "display_data"
    }
   ],
   "source": [
    "// exemple de simplification de syntaxe orientée langage naturel\n",
    "\"comment ça va?\".indexOf((\"AV\".reverse).toLowerCase)"
   ]
  },
  {
   "cell_type": "code",
   "execution_count": null,
   "metadata": {
    "collapsed": true
   },
   "outputs": [],
   "source": []
  }
 ],
 "metadata": {
  "kernelspec": {
   "display_name": "Scala 211",
   "language": "scala211",
   "name": "scala"
  },
  "language_info": {
   "codemirror_mode": "text/x-scala",
   "file_extension": ".scala",
   "mimetype": "text/x-scala",
   "name": "scala211",
   "pygments_lexer": "scala",
   "version": "2.11.7"
  }
 },
 "nbformat": 4,
 "nbformat_minor": 0
}
