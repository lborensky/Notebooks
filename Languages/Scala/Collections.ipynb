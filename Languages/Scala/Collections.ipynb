{
 "cells": [
  {
   "cell_type": "markdown",
   "metadata": {},
   "source": [
    "### Collections (filtre)"
   ]
  },
  {
   "cell_type": "code",
   "execution_count": 1,
   "metadata": {
    "collapsed": false
   },
   "outputs": [
    {
     "name": "stdout",
     "output_type": "stream",
     "text": [
      "List(un, deux, (4,5), (8,9), (6,six))\n"
     ]
    },
    {
     "data": {
      "text/plain": [
       "\u001b[36ml\u001b[0m: \u001b[32mList\u001b[0m[\u001b[32mAny\u001b[0m] = \u001b[33mList\u001b[0m(1, 2, un, 3, deux, (4,5), (8,9), (6,six))"
      ]
     },
     "metadata": {},
     "output_type": "display_data"
    }
   ],
   "source": [
    "val l = List(1, 2, \"un\", 3, \"deux\", (4, 5), (8, 9), (6, \"six\"))\n",
    "\n",
    "// récupération dans la liste que des chaînes de caractères et des couples\n",
    "println(l.filter(\n",
    "  v => ((v.isInstanceOf[String]) ||\n",
    "        (v.isInstanceOf[Pair[_,_]])\n",
    "       )\n",
    "  )\n",
    ")"
   ]
  },
  {
   "cell_type": "code",
   "execution_count": 3,
   "metadata": {
    "collapsed": false
   },
   "outputs": [
    {
     "name": "stdout",
     "output_type": "stream",
     "text": [
      "12840892 microsecondes\n"
     ]
    },
    {
     "data": {
      "text/plain": [
       "\u001b[36mdébut\u001b[0m: \u001b[32mLong\u001b[0m = \u001b[32m358056965097117L\u001b[0m\n",
       "\u001b[36mr\u001b[0m: \u001b[32mcollection\u001b[0m.\u001b[32mimmutable\u001b[0m.\u001b[32mRange\u001b[0m.\u001b[32mInclusive\u001b[0m = \u001b[33mRange\u001b[0m(\n",
       "  \u001b[32m0\u001b[0m,\n",
       "  \u001b[32m1\u001b[0m,\n",
       "  \u001b[32m2\u001b[0m,\n",
       "  \u001b[32m3\u001b[0m,\n",
       "  \u001b[32m4\u001b[0m,\n",
       "  \u001b[32m5\u001b[0m,\n",
       "  \u001b[32m6\u001b[0m,\n",
       "  \u001b[32m7\u001b[0m,\n",
       "  \u001b[32m8\u001b[0m,\n",
       "  \u001b[32m9\u001b[0m,\n",
       "  \u001b[32m10\u001b[0m,\n",
       "  \u001b[32m11\u001b[0m,\n",
       "  \u001b[32m12\u001b[0m,\n",
       "  \u001b[32m13\u001b[0m,\n",
       "  \u001b[32m14\u001b[0m,\n",
       "  \u001b[32m15\u001b[0m,\n",
       "  \u001b[32m16\u001b[0m,\n",
       "  \u001b[32m17\u001b[0m,\n",
       "  \u001b[32m18\u001b[0m,\n",
       "\u001b[33m...\u001b[0m\n",
       "\u001b[36mmicros\u001b[0m: \u001b[32mLong\u001b[0m = \u001b[32m12840892L\u001b[0m"
      ]
     },
     "metadata": {},
     "output_type": "display_data"
    }
   ],
   "source": [
    "val début = System.nanoTime\n",
    "val r = 0 to 10000000\n",
    "for (i <- (0 to 100)) {\n",
    "    val cpt = r.count(_ %3 == 0)\n",
    "}\n",
    "val micros = (System.nanoTime - début) / 1000\n",
    "println(\"%d microsecondes\".format(micros))"
   ]
  },
  {
   "cell_type": "code",
   "execution_count": 4,
   "metadata": {
    "collapsed": false
   },
   "outputs": [
    {
     "name": "stdout",
     "output_type": "stream",
     "text": [
      "8431420 microsecondes\n"
     ]
    },
    {
     "data": {
      "text/plain": [
       "\u001b[36mdébut\u001b[0m: \u001b[32mLong\u001b[0m = \u001b[32m358136507960816L\u001b[0m\n",
       "\u001b[36mr\u001b[0m: \u001b[32mcollection\u001b[0m.\u001b[32mimmutable\u001b[0m.\u001b[32mRange\u001b[0m.\u001b[32mInclusive\u001b[0m = \u001b[33mRange\u001b[0m(\n",
       "  \u001b[32m0\u001b[0m,\n",
       "  \u001b[32m1\u001b[0m,\n",
       "  \u001b[32m2\u001b[0m,\n",
       "  \u001b[32m3\u001b[0m,\n",
       "  \u001b[32m4\u001b[0m,\n",
       "  \u001b[32m5\u001b[0m,\n",
       "  \u001b[32m6\u001b[0m,\n",
       "  \u001b[32m7\u001b[0m,\n",
       "  \u001b[32m8\u001b[0m,\n",
       "  \u001b[32m9\u001b[0m,\n",
       "  \u001b[32m10\u001b[0m,\n",
       "  \u001b[32m11\u001b[0m,\n",
       "  \u001b[32m12\u001b[0m,\n",
       "  \u001b[32m13\u001b[0m,\n",
       "  \u001b[32m14\u001b[0m,\n",
       "  \u001b[32m15\u001b[0m,\n",
       "  \u001b[32m16\u001b[0m,\n",
       "  \u001b[32m17\u001b[0m,\n",
       "  \u001b[32m18\u001b[0m,\n",
       "\u001b[33m...\u001b[0m\n",
       "\u001b[36mmicros\u001b[0m: \u001b[32mLong\u001b[0m = \u001b[32m8431420L\u001b[0m"
      ]
     },
     "metadata": {},
     "output_type": "display_data"
    }
   ],
   "source": [
    "val début = System.nanoTime\n",
    "val r = 0 to 10000000\n",
    "for (i <- (0 to 100)) {\n",
    "    val cpt = r.par.count(_ %3 == 0)\n",
    "}\n",
    "val micros = (System.nanoTime - début) / 1000\n",
    "println(\"%d microsecondes\".format(micros))"
   ]
  },
  {
   "cell_type": "code",
   "execution_count": null,
   "metadata": {
    "collapsed": true
   },
   "outputs": [],
   "source": []
  }
 ],
 "metadata": {
  "kernelspec": {
   "display_name": "Scala 211",
   "language": "scala211",
   "name": "scala"
  },
  "language_info": {
   "codemirror_mode": "text/x-scala",
   "file_extension": ".scala",
   "mimetype": "text/x-scala",
   "name": "scala211",
   "pygments_lexer": "scala",
   "version": "2.11.7"
  }
 },
 "nbformat": 4,
 "nbformat_minor": 0
}
