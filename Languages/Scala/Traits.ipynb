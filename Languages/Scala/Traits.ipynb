{
 "cells": [
  {
   "cell_type": "markdown",
   "metadata": {},
   "source": [
    "### Traits (exemple)"
   ]
  },
  {
   "cell_type": "code",
   "execution_count": 4,
   "metadata": {
    "collapsed": false
   },
   "outputs": [
    {
     "data": {
      "text/plain": [
       "defined \u001b[32mclass \u001b[36mPersonne\u001b[0m"
      ]
     },
     "metadata": {},
     "output_type": "display_data"
    }
   ],
   "source": [
    "class Personne (nom: String) { }"
   ]
  },
  {
   "cell_type": "code",
   "execution_count": 7,
   "metadata": {
    "collapsed": false
   },
   "outputs": [
    {
     "data": {
      "text/plain": [
       "defined \u001b[32mtrait \u001b[36mMédecin\u001b[0m\n",
       "defined \u001b[32mtrait \u001b[36mProfesseur\u001b[0m\n",
       "defined \u001b[32mtrait \u001b[36mChirurgien\u001b[0m"
      ]
     },
     "metadata": {},
     "output_type": "display_data"
    }
   ],
   "source": [
    "trait Médecin {\n",
    "    def peutFaireDesPiqures() = true\n",
    "}\n",
    "\n",
    "trait Professeur {\n",
    "    def peutDonnerDesCours() { }\n",
    "}\n",
    "trait Chirurgien {\n",
    "    def peutOpérer() = true\n",
    "}"
   ]
  },
  {
   "cell_type": "code",
   "execution_count": 6,
   "metadata": {
    "collapsed": false
   },
   "outputs": [
    {
     "data": {
      "text/plain": [
       "defined \u001b[32mclass \u001b[36mChefClinique\u001b[0m"
      ]
     },
     "metadata": {},
     "output_type": "display_data"
    }
   ],
   "source": [
    "class ChefClinique(nom: String, clinique: String) extends Personne(nom) with Médcin { \n",
    "}"
   ]
  },
  {
   "cell_type": "code",
   "execution_count": 8,
   "metadata": {
    "collapsed": false
   },
   "outputs": [
    {
     "data": {
      "text/plain": [
       "\u001b[36mchef\u001b[0m: \u001b[32mChefClinique\u001b[0m = cmd5$$user$ChefClinique@5a270750\n",
       "\u001b[36mchefPrf\u001b[0m: \u001b[32mChefClinique\u001b[0m with \u001b[32mProfesseur\u001b[0m = cmd7$$user$$anonfun$2$$anon$1@302e2b4e\n",
       "\u001b[36mgrandChef\u001b[0m: \u001b[32mPersonne\u001b[0m with \u001b[32mMédecin\u001b[0m with \u001b[32mProfesseur\u001b[0m with \u001b[32mChirurgien\u001b[0m = cmd7$$user$$anonfun$3$$anon$2@79172e0c"
      ]
     },
     "metadata": {},
     "output_type": "display_data"
    }
   ],
   "source": [
    "val chef = new ChefClinique(\"Martin\", \"Saint Louis\")\n",
    "val chefPrf = new ChefClinique(\"Durand\", \"Saint Anne\") with Professeur\n",
    "val grandChef = new Personne(\"Dupond\") with Médecin with Professeur with Chirurgien"
   ]
  }
 ],
 "metadata": {
  "kernelspec": {
   "display_name": "Scala 211",
   "language": "scala211",
   "name": "scala"
  },
  "language_info": {
   "codemirror_mode": "text/x-scala",
   "file_extension": ".scala",
   "mimetype": "text/x-scala",
   "name": "scala211",
   "pygments_lexer": "scala",
   "version": "2.11.7"
  }
 },
 "nbformat": 4,
 "nbformat_minor": 0
}
