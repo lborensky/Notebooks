{
 "cells": [
  {
   "cell_type": "markdown",
   "metadata": {},
   "source": [
    "## Prédiction de Classification\n",
    "Ce cas d'utilisation est relatif à la prédiction de classification du type de fleurs d'**Iris** (parmi 3 connues: *Setosa*, *Virginica* et *Versicolor*) disposant chacune d'un jeu de données équitable et représentatif dans un fichier: \"**iris_data.csv**\" contenant 3 x 50 lignes d'attributs (longueur pétale, largeur pétale, longueur sépale et largeur sépale) établi par 2 botanistes. Cette prédiction est un cas d'école de classification (la célèbre collection d'Iris de **Fisher**, bien qu'un peu ancien, elle continue de faire référence dans le domaine)."
   ]
  },
  {
   "cell_type": "markdown",
   "metadata": {},
   "source": [
    "## Mise en pratique\n",
    "Pour connaître la répartition des caractéristiques des 3 types et le pourcentage de classification (appartenance) associé sur la base de la fourniture des caractéristiques fournies d'une nouvelle mesure d'une fleur d'Iris (à priori, au regard rapide semblable aux autres), le traitement Python est le suivant:\n",
    "1. importation des différentes librairies graphiques nécessaires à la représentation graphique du jeu de données initial,\n",
    "2. chargement du fichier relatif au jeu de données initial,\n",
    "3. représentation graphique de la dispersion des caractéristiques propres aux 3 types de fleurs d'Iris,\n",
    "4. instanciation de l'algorithme d'apprentissage basé sur les plus proches voisins (KNN: K-Nearest Neighboors; recherche des plus proches voisins dans une suite linéaire) et découpage du jeu de données initial avec une partie base d'apprentissage et une partie base de test\n",
    "5. création d'un modèle d'apprentissage pour prédiction sur la base de test,\n",
    "6. calcul sur la base du modèle, la prédiction en pourcentage relatif à un jeu de données d'attributs relatif à une nouvelle fleur.\n"
   ]
  },
  {
   "cell_type": "code",
   "execution_count": 1,
   "metadata": {
    "collapsed": true
   },
   "outputs": [],
   "source": [
    "# 1. la librairie sklearn contient plusieurs jeux de données, dont celles des Iris\n",
    "import sklearn\n",
    "from sklearn.datasets import load_iris"
   ]
  },
  {
   "cell_type": "code",
   "execution_count": 4,
   "metadata": {
    "collapsed": false
   },
   "outputs": [
    {
     "name": "stdout",
     "output_type": "stream",
     "text": [
      "(150, 4)\n",
      "(150, 4)\n"
     ]
    }
   ],
   "source": [
    "# 2. chargement du jeu de données (Iris; 151 records dont le 1er est relatif aux classes (types) d'Iris)\n",
    "iris = load_iris()\n",
    "\n",
    "# 2.1. découpage du jeu de données avec les variables prédictives (attributs) et cibles (classes) \n",
    "X, y = iris.data, iris.target\n",
    "num_samples, num_features = X.shape\n",
    "\n",
    "# 2.2. quelques informations à but de vérification du contexte décrit (4 attributs, 3 classes et 150 records)\n",
    "print(num_samples, num_features)\n",
    "print(iris.data.shape)"
   ]
  },
  {
   "cell_type": "code",
   "execution_count": 5,
   "metadata": {
    "collapsed": false
   },
   "outputs": [
    {
     "data": {
      "text/plain": [
       "<matplotlib.collections.PathCollection at 0x7f81f28eb910>"
      ]
     },
     "execution_count": 5,
     "metadata": {},
     "output_type": "execute_result"
    },
    {
     "data": {
      "image/png": "[encoded data removed]",
      "text/plain": [
       "<matplotlib.figure.Figure at 0x7f81f2b55190>"
      ]
     },
     "metadata": {},
     "output_type": "display_data"
    }
   ],
   "source": [
    "# 3. réprésentation graphique (diagramme de dispersion) relative au jeu de données\n",
    "%matplotlib inline\n",
    "import matplotlib\n",
    "import numpy as np\n",
    "import seaborn\n",
    "import matplotlib.pyplot as plt\n",
    "fig = plt.figure(figsize=(10, 5))\n",
    "\n",
    "x = X[:, 2]\n",
    "y1 = X[:, 3]\n",
    "iris_spec = iris.target\n",
    "\n",
    "plt.title('Iris - Classification')\n",
    "plt.xlabel('Petal Length')\n",
    "plt.ylabel('Petal Width')\n",
    "plt.scatter(x, y1, c=iris_spec, marker='.', s=100)"
   ]
  },
  {
   "cell_type": "code",
   "execution_count": 11,
   "metadata": {
    "collapsed": false
   },
   "outputs": [
    {
     "name": "stdout",
     "output_type": "stream",
     "text": [
      "KNeighborsClassifier(algorithm='auto', leaf_size=30, metric='minkowski',\n",
      "           metric_params=None, n_jobs=1, n_neighbors=5, p=2,\n",
      "           weights='uniform')\n"
     ]
    }
   ],
   "source": [
    "# 4. importation des packages et/ou fonctions relatifs au découpage du jeu de données (apprentissage et test)\n",
    "from sklearn.neighbors import KNeighborsClassifier\n",
    "from sklearn.cross_validation import train_test_split, cross_val_score\n",
    "\n",
    "# 4.1. instanciation de l'algorithme de classification sur la base de la recherche des voisins les + proches (k=5)\n",
    "knn = KNeighborsClassifier(n_neighbors=5)\n",
    "\n",
    "print(knn)"
   ]
  },
  {
   "cell_type": "code",
   "execution_count": 12,
   "metadata": {
    "collapsed": false
   },
   "outputs": [
    {
     "data": {
      "text/plain": [
       "KNeighborsClassifier(algorithm='auto', leaf_size=30, metric='minkowski',\n",
       "           metric_params=None, n_jobs=1, n_neighbors=5, p=2,\n",
       "           weights='uniform')"
      ]
     },
     "execution_count": 12,
     "metadata": {},
     "output_type": "execute_result"
    }
   ],
   "source": [
    "# 5. découpage du jeu de données (variables prédictives et cibles) en 2 jeux (apprentissage et test)\n",
    "id_train, id_test, il_train, il_test = train_test_split(X, y)\n",
    "\n",
    "# 5.1 création du modèle d'apprentissage\n",
    "knn.fit(id_train, il_train)"
   ]
  },
  {
   "cell_type": "code",
   "execution_count": 13,
   "metadata": {
    "collapsed": false
   },
   "outputs": [
    {
     "data": {
      "text/plain": [
       "array([0, 2, 1, 0, 0, 1, 1, 0, 2, 0, 0, 0, 0, 0, 1, 0, 2, 2, 0, 2, 1, 1, 1,\n",
       "       2, 1, 2, 2, 1, 1, 1, 0, 0, 0, 0, 2, 2, 0, 1])"
      ]
     },
     "execution_count": 13,
     "metadata": {},
     "output_type": "execute_result"
    }
   ],
   "source": [
    "# 6. prise en compte de données de test par le modèle d'apprentissage pour prédiction\n",
    "knn.predict(id_test)"
   ]
  },
  {
   "cell_type": "code",
   "execution_count": 14,
   "metadata": {
    "collapsed": false
   },
   "outputs": [
    {
     "data": {
      "text/plain": [
       "array([[ 0.2,  0.6,  0.2]])"
      ]
     },
     "execution_count": 14,
     "metadata": {},
     "output_type": "execute_result"
    }
   ],
   "source": [
    "# 6..1. prédiction de classification sur les 3 types retenus pour les caractéristiques données d'une nouvelle fleur\n",
    "knn.predict_proba([[2,5,3,4],])"
   ]
  },
  {
   "cell_type": "markdown",
   "metadata": {},
   "source": [
    "## Synthèse\n",
    "Sur la base d'un jeu réduit de donnnées, le résultat de probabilité de classification pour la nouvelle fleur d'Iris parmi les 3 classes retenues est le suivant:\n",
    "\n",
    "* Setosa [0] = 20%\n",
    "* Virginica [1] = 60%\n",
    "* Versicolor [2] = 20%\n",
    "\n",
    "Ce petit exercice montre la logique globale de la démarche du Machine Learning, il n'est pas représentatif de la complexité des algorithmes de prédiction à retenir et de l'analyse préalable nécessaires pour retenir ceux qui sont appropriés."
   ]
  },
  {
   "cell_type": "code",
   "execution_count": 15,
   "metadata": {
    "collapsed": false
   },
   "outputs": [
    {
     "name": "stdout",
     "output_type": "stream",
     "text": [
      "[TerminalIPythonApp] WARNING | Subcommand `ipython nbconvert` is deprecated and will be removed in future versions.\n",
      "[TerminalIPythonApp] WARNING | You likely want to use `jupyter nbconvert`... continue in 5 sec. Press Ctrl-C to quit now.\n",
      "[NbConvertApp] Converting notebook ML_Classification_Iris.ipynb to html\n",
      "[NbConvertApp] Writing 233365 bytes to ML_Classification_Iris.html\n"
     ]
    }
   ],
   "source": [
    "!ipython nbconvert ML_Classification_Iris.ipynb --to html"
   ]
  },
  {
   "cell_type": "code",
   "execution_count": null,
   "metadata": {
    "collapsed": true
   },
   "outputs": [],
   "source": []
  }
 ],
 "metadata": {
  "kernelspec": {
   "display_name": "PySpark (Python2.7)",
   "language": "python",
   "name": "pyspark"
  },
  "language_info": {
   "codemirror_mode": {
    "name": "ipython",
    "version": 2
   },
   "file_extension": ".py",
   "mimetype": "text/x-python",
   "name": "python",
   "nbconvert_exporter": "python",
   "pygments_lexer": "ipython2",
   "version": "2.7.6"
  }
 },
 "nbformat": 4,
 "nbformat_minor": 0
}
