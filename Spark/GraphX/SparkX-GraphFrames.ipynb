{
 "cells": [
  {
   "cell_type": "markdown",
   "metadata": {},
   "source": [
    "## SparkX - GraphFrame\n",
    "Pour rappel, l'abstraction GraphFrame est sortie en début mars 2016. Le package permet de l'exploiter sous Scala, Python et Java doit être installé en plus de la distribution supérieure ou égale à 1.4.0. Ce Notebook reprend celui de Databriks déroulé sous leur propre environnement. Le scénario concerne un contexte minimaliste de réseau social (7 individus autour de la trentaine, saut un du double et n'ayant aucune relation avec les autres). La représentation en graphe de ce réseau est donnée ci-dessous, à l'exception de Gabby (60 ans) qui n'est pas un adèpte de ce mode de collaboration.\n",
    "\n",
    "![Social Network Graph](http://p2.pstatp.com/large/33d000f062d8d1b486d)"
   ]
  },
  {
   "cell_type": "code",
   "execution_count": 1,
   "metadata": {
    "collapsed": true
   },
   "outputs": [],
   "source": [
    "# le fichier kernel.json pour PySpark sous Jupyter doit-être actulisé prenant en compte le package GraphFrame \n",
    "from graphframes import *"
   ]
  },
  {
   "cell_type": "code",
   "execution_count": 2,
   "metadata": {
    "collapsed": true
   },
   "outputs": [],
   "source": [
    "# initialisation des sommets du graphe avec le nom et l'âge des individus retenus\n",
    "vertices = sqlContext.createDataFrame([\n",
    "  (\"a\", \"Alice\", 34),\n",
    "  (\"b\", \"Bob\", 36),\n",
    "  (\"c\", \"Charlie\", 30),\n",
    "  (\"d\", \"David\", 29),\n",
    "  (\"e\", \"Esther\", 32),\n",
    "  (\"f\", \"Fanny\", 36),\n",
    "  (\"g\", \"Gabby\", 60)], [\"id\", \"name\", \"age\"])"
   ]
  },
  {
   "cell_type": "code",
   "execution_count": 3,
   "metadata": {
    "collapsed": true
   },
   "outputs": [],
   "source": [
    "# initialisation des arêtes du graphe avec pour attribut le niveau de relation entre individus\n",
    "edges = sqlContext.createDataFrame([\n",
    "  (\"a\", \"b\", \"friend\"),\n",
    "  (\"b\", \"c\", \"follow\"),\n",
    "  (\"c\", \"b\", \"follow\"),\n",
    "  (\"f\", \"c\", \"follow\"),\n",
    "  (\"e\", \"f\", \"follow\"),\n",
    "  (\"e\", \"d\", \"friend\"),\n",
    "  (\"d\", \"a\", \"friend\"),\n",
    "  (\"a\", \"e\", \"friend\")\n",
    "], [\"src\", \"dst\", \"relationship\"])"
   ]
  },
  {
   "cell_type": "code",
   "execution_count": 4,
   "metadata": {
    "collapsed": false
   },
   "outputs": [
    {
     "name": "stdout",
     "output_type": "stream",
     "text": [
      "GraphFrame(v:[id: string, name: string, age: bigint], e:[src: string, dst: string, relationship: string])\n"
     ]
    }
   ],
   "source": [
    "# création d'un graphframe relatif à l'abstraction du graphe\n",
    "g = GraphFrame(vertices, edges)\n",
    "print g"
   ]
  },
  {
   "cell_type": "code",
   "execution_count": 7,
   "metadata": {
    "collapsed": false
   },
   "outputs": [
    {
     "name": "stdout",
     "output_type": "stream",
     "text": [
      "+------------+--------------+--------------+------------+\n",
      "|          e1|             a|             b|          e2|\n",
      "+------------+--------------+--------------+------------+\n",
      "|[c,b,follow]|[c,Charlie,30]|    [b,Bob,36]|[b,c,follow]|\n",
      "|[b,c,follow]|    [b,Bob,36]|[c,Charlie,30]|[c,b,follow]|\n",
      "+------------+--------------+--------------+------------+\n",
      "\n"
     ]
    }
   ],
   "source": [
    "# recherche de relation entre individus (mono et double sens) à l'aide du simple langage DSL\n",
    "motifs = g.find(\"(a)-[e1]->(b); (b)-[e2]->(a)\")\n",
    "motifs.show()"
   ]
  },
  {
   "cell_type": "code",
   "execution_count": 8,
   "metadata": {
    "collapsed": false
   },
   "outputs": [
    {
     "name": "stdout",
     "output_type": "stream",
     "text": [
      "+------------+--------------+--------------+------------+\n",
      "|          e1|             a|             b|          e2|\n",
      "+------------+--------------+--------------+------------+\n",
      "|[c,b,follow]|[c,Charlie,30]|    [b,Bob,36]|[b,c,follow]|\n",
      "|[b,c,follow]|    [b,Bob,36]|[c,Charlie,30]|[c,b,follow]|\n",
      "+------------+--------------+--------------+------------+\n",
      "\n"
     ]
    }
   ],
   "source": [
    "# filtrage sur les relations trouvées\n",
    "filtered = motifs.filter(\"b.age > 30 or a.age > 30\")\n",
    "filtered.show()"
   ]
  },
  {
   "cell_type": "code",
   "execution_count": 9,
   "metadata": {
    "collapsed": true
   },
   "outputs": [],
   "source": [
    "# pipeline de recherche et de filtrages\n",
    "paths = g.find(\"(a)-[e]->(b)\")\\\n",
    "  .filter(\"e.relationship = 'follow'\")\\\n",
    "  .filter(\"a.age < b.age\")"
   ]
  },
  {
   "cell_type": "code",
   "execution_count": 10,
   "metadata": {
    "collapsed": true
   },
   "outputs": [],
   "source": [
    "# The `paths` variable contains the vertex information, which we can extract:\n",
    "e2 = paths.select(\"e.src\", \"e.dst\", \"e.relationship\")"
   ]
  },
  {
   "cell_type": "code",
   "execution_count": 11,
   "metadata": {
    "collapsed": true
   },
   "outputs": [],
   "source": [
    "# Construct the subgraph\n",
    "g2 = GraphFrame(g.vertices, e2)"
   ]
  },
  {
   "cell_type": "code",
   "execution_count": 12,
   "metadata": {
    "collapsed": false
   },
   "outputs": [
    {
     "name": "stdout",
     "output_type": "stream",
     "text": [
      "+---+-------+---+\n",
      "| id|   name|age|\n",
      "+---+-------+---+\n",
      "|  a|  Alice| 34|\n",
      "|  b|    Bob| 36|\n",
      "|  c|Charlie| 30|\n",
      "|  d|  David| 29|\n",
      "|  e| Esther| 32|\n",
      "|  f|  Fanny| 36|\n",
      "|  g|  Gabby| 60|\n",
      "+---+-------+---+\n",
      "\n"
     ]
    }
   ],
   "source": [
    "# affichage des sommets du sous-graphe créé\n",
    "g2.vertices.show()"
   ]
  },
  {
   "cell_type": "markdown",
   "metadata": {},
   "source": [
    "### Plusieurs algorithmes vont être déroulés avec ce graphe\n",
    "1. Breadth-first search (BFS)\n",
    "2. Connected components\n",
    "3. Strongly connected components\n",
    "4. Label Propagation Algorithm (LPA)\n",
    "5. PageRank\n",
    "6. Shortest paths\n",
    "7. Triangle count"
   ]
  },
  {
   "cell_type": "code",
   "execution_count": 13,
   "metadata": {
    "collapsed": true
   },
   "outputs": [],
   "source": [
    "# 1. Recherche des releations de Ester âgées de moins de 32 ans\n",
    "paths = g.bfs(\"name = 'Esther'\", \"age < 32\")"
   ]
  },
  {
   "cell_type": "code",
   "execution_count": 14,
   "metadata": {
    "collapsed": false
   },
   "outputs": [
    {
     "name": "stdout",
     "output_type": "stream",
     "text": [
      "+-------------+------------+------------+\n",
      "|         from|          e0|          to|\n",
      "+-------------+------------+------------+\n",
      "|[e,Esther,32]|[e,d,friend]|[d,David,29]|\n",
      "+-------------+------------+------------+\n",
      "\n"
     ]
    }
   ],
   "source": [
    "paths.show()"
   ]
  },
  {
   "cell_type": "code",
   "execution_count": 15,
   "metadata": {
    "collapsed": false
   },
   "outputs": [
    {
     "name": "stdout",
     "output_type": "stream",
     "text": [
      "+-------------+------------+------------+------------+--------------+\n",
      "|         from|          e0|          v1|          e1|            to|\n",
      "+-------------+------------+------------+------------+--------------+\n",
      "|[e,Esther,32]|[e,f,follow]|[f,Fanny,36]|[f,c,follow]|[c,Charlie,30]|\n",
      "+-------------+------------+------------+------------+--------------+\n",
      "\n"
     ]
    }
   ],
   "source": [
    "# 1.a La recherche peut également être limitée par des filtres de sommets et des longueurs de trajet maximales.\n",
    "filteredPaths = g.bfs(\n",
    "  fromExpr = \"name = 'Esther'\",\n",
    "  toExpr = \"age < 32\",\n",
    "  edgeFilter = \"relationship != 'friend'\",\n",
    "  maxPathLength = 3)\n",
    "filteredPaths.show()"
   ]
  },
  {
   "cell_type": "code",
   "execution_count": 16,
   "metadata": {
    "collapsed": false
   },
   "outputs": [
    {
     "name": "stdout",
     "output_type": "stream",
     "text": [
      "+---+-------+---+---------+\n",
      "| id|   name|age|component|\n",
      "+---+-------+---+---------+\n",
      "|  a|  Alice| 34|        0|\n",
      "|  d|  David| 29|        0|\n",
      "|  b|    Bob| 36|        0|\n",
      "|  e| Esther| 32|        0|\n",
      "|  c|Charlie| 30|        0|\n",
      "|  f|  Fanny| 36|        0|\n",
      "|  g|  Gabby| 60|        7|\n",
      "+---+-------+---+---------+\n",
      "\n"
     ]
    }
   ],
   "source": [
    "# 2. Recherche d'une composante connexe d'un sous-graphe\n",
    "result = g.connectedComponents()\n",
    "result.show()"
   ]
  },
  {
   "cell_type": "code",
   "execution_count": 17,
   "metadata": {
    "collapsed": false
   },
   "outputs": [
    {
     "name": "stdout",
     "output_type": "stream",
     "text": [
      "+---+-------+---+---------+\n",
      "| id|   name|age|component|\n",
      "+---+-------+---+---------+\n",
      "|  a|  Alice| 34|        0|\n",
      "|  d|  David| 29|        0|\n",
      "|  b|    Bob| 36|        2|\n",
      "|  e| Esther| 32|        0|\n",
      "|  c|Charlie| 30|        2|\n",
      "|  f|  Fanny| 36|        5|\n",
      "|  g|  Gabby| 60|        7|\n",
      "+---+-------+---+---------+\n",
      "\n"
     ]
    }
   ],
   "source": [
    "# 3. Calcul de la composante fortement connexe de chaque sommet avec itération\n",
    "result = g.stronglyConnectedComponents(maxIter=10)\n",
    "result.show()"
   ]
  },
  {
   "cell_type": "code",
   "execution_count": 18,
   "metadata": {
    "collapsed": false
   },
   "outputs": [
    {
     "name": "stdout",
     "output_type": "stream",
     "text": [
      "+---+-------+---+-----+\n",
      "| id|   name|age|label|\n",
      "+---+-------+---+-----+\n",
      "|  a|  Alice| 34|    2|\n",
      "|  d|  David| 29|    4|\n",
      "|  b|    Bob| 36|    4|\n",
      "|  e| Esther| 32|    2|\n",
      "|  c|Charlie| 30|    2|\n",
      "|  f|  Fanny| 36|    4|\n",
      "|  g|  Gabby| 60|    7|\n",
      "+---+-------+---+-----+\n",
      "\n"
     ]
    }
   ],
   "source": [
    "# 4. Algorithme permettant de détecter des communautés dans des réseaux\n",
    "result = g.labelPropagation(maxIter=5)\n",
    "result.show()"
   ]
  },
  {
   "cell_type": "code",
   "execution_count": 22,
   "metadata": {
    "collapsed": false
   },
   "outputs": [
    {
     "name": "stdout",
     "output_type": "stream",
     "text": [
      "+---+-------+---+-------------------+\n",
      "| id|   name|age|           pagerank|\n",
      "+---+-------+---+-------------------+\n",
      "|  a|  Alice| 34|0.37429242187499995|\n",
      "|  d|  David| 29|0.27366105468749996|\n",
      "|  b|    Bob| 36| 2.2131428039184433|\n",
      "|  e| Esther| 32|  0.309074279296875|\n",
      "|  c|Charlie| 30|  2.240080617201845|\n",
      "|  f|  Fanny| 36|0.27366105468749996|\n",
      "|  g|  Gabby| 60|               0.15|\n",
      "+---+-------+---+-------------------+\n",
      "\n",
      "+---+---+------------+------+\n",
      "|src|dst|relationship|weight|\n",
      "+---+---+------------+------+\n",
      "|  c|  b|      follow|   1.0|\n",
      "|  f|  c|      follow|   1.0|\n",
      "|  a|  b|      friend|   0.5|\n",
      "|  a|  e|      friend|   0.5|\n",
      "|  d|  a|      friend|   1.0|\n",
      "|  b|  c|      follow|   1.0|\n",
      "|  e|  d|      friend|   0.5|\n",
      "|  e|  f|      follow|   0.5|\n",
      "+---+---+------------+------+\n",
      "\n"
     ]
    }
   ],
   "source": [
    "# 5. PagRank, identification de sommets importants dans un graphe\n",
    "result = g.pageRank(resetProbability=0.15, tol=0.01)\n",
    "result.vertices.show()\n",
    "result.edges.show()"
   ]
  },
  {
   "cell_type": "code",
   "execution_count": 23,
   "metadata": {
    "collapsed": false
   },
   "outputs": [
    {
     "name": "stdout",
     "output_type": "stream",
     "text": [
      "+---+-------+---+-------------------+\n",
      "| id|   name|age|          distances|\n",
      "+---+-------+---+-------------------+\n",
      "|  a|  Alice| 34|Map(a -> 0, d -> 2)|\n",
      "|  d|  David| 29|Map(d -> 0, a -> 1)|\n",
      "|  b|    Bob| 36|              Map()|\n",
      "|  e| Esther| 32|Map(d -> 1, a -> 2)|\n",
      "|  c|Charlie| 30|              Map()|\n",
      "|  f|  Fanny| 36|              Map()|\n",
      "|  g|  Gabby| 60|              Map()|\n",
      "+---+-------+---+-------------------+\n",
      "\n"
     ]
    }
   ],
   "source": [
    "# 6. Calcul de chemins les plus courts\n",
    "result = g.shortestPaths(landmarks=[\"a\", \"d\"])\n",
    "result.show()"
   ]
  },
  {
   "cell_type": "code",
   "execution_count": 24,
   "metadata": {
    "collapsed": false
   },
   "outputs": [
    {
     "name": "stdout",
     "output_type": "stream",
     "text": [
      "+-----+---+-------+---+\n",
      "|count| id|   name|age|\n",
      "+-----+---+-------+---+\n",
      "|    1|  a|  Alice| 34|\n",
      "|    0|  b|    Bob| 36|\n",
      "|    0|  c|Charlie| 30|\n",
      "|    1|  d|  David| 29|\n",
      "|    1|  e| Esther| 32|\n",
      "|    0|  f|  Fanny| 36|\n",
      "|    0|  g|  Gabby| 60|\n",
      "+-----+---+-------+---+\n",
      "\n"
     ]
    }
   ],
   "source": [
    "# 7. Calcul du nombre de triangles passé par les sommets\n",
    "result = g.triangleCount()\n",
    "result.show()"
   ]
  },
  {
   "cell_type": "code",
   "execution_count": null,
   "metadata": {
    "collapsed": true
   },
   "outputs": [],
   "source": []
  }
 ],
 "metadata": {
  "kernelspec": {
   "display_name": "PySpark (Python2.7)",
   "language": "python",
   "name": "pyspark"
  },
  "language_info": {
   "codemirror_mode": {
    "name": "ipython",
    "version": 2
   },
   "file_extension": ".py",
   "mimetype": "text/x-python",
   "name": "python",
   "nbconvert_exporter": "python",
   "pygments_lexer": "ipython2",
   "version": "2.7.6"
  }
 },
 "nbformat": 4,
 "nbformat_minor": 0
}
